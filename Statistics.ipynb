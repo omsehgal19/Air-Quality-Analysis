{
 "cells": [
  {
   "cell_type": "markdown",
   "metadata": {},
   "source": [
    "# Air Quality Data Statistics "
   ]
  },
  {
   "cell_type": "code",
   "execution_count": 1,
   "metadata": {},
   "outputs": [],
   "source": [
    "import pandas as pd\n",
    "import matplotlib.pyplot as plt\n",
    "import matplotlib as mpl\n",
    "import numpy as np\n",
    "import seaborn as sns\n",
    "%matplotlib inline\n",
    "import thinkstats2\n",
    "import scipy.stats\n",
    "import thinkplot"
   ]
  },
  {
   "cell_type": "code",
   "execution_count": 2,
   "metadata": {},
   "outputs": [],
   "source": [
    "df=pd.read_csv(\"CompletedDataset.csv\")"
   ]
  },
  {
   "cell_type": "code",
   "execution_count": 3,
   "metadata": {},
   "outputs": [
    {
     "data": {
      "text/html": [
       "<div>\n",
       "<style scoped>\n",
       "    .dataframe tbody tr th:only-of-type {\n",
       "        vertical-align: middle;\n",
       "    }\n",
       "\n",
       "    .dataframe tbody tr th {\n",
       "        vertical-align: top;\n",
       "    }\n",
       "\n",
       "    .dataframe thead th {\n",
       "        text-align: right;\n",
       "    }\n",
       "</style>\n",
       "<table border=\"1\" class=\"dataframe\">\n",
       "  <thead>\n",
       "    <tr style=\"text-align: right;\">\n",
       "      <th></th>\n",
       "      <th>City</th>\n",
       "      <th>AQI</th>\n",
       "      <th>Precipitation</th>\n",
       "      <th>GDP</th>\n",
       "      <th>Temperature</th>\n",
       "      <th>Longititute</th>\n",
       "      <th>Latitude</th>\n",
       "      <th>Altitude</th>\n",
       "      <th>PopulationDensity</th>\n",
       "      <th>Coastal</th>\n",
       "      <th>GreenCoverageRate</th>\n",
       "      <th>Incineration(10,000ton)</th>\n",
       "    </tr>\n",
       "  </thead>\n",
       "  <tbody>\n",
       "    <tr>\n",
       "      <th>0</th>\n",
       "      <td>Ngawa Prefecture</td>\n",
       "      <td>23</td>\n",
       "      <td>665.1</td>\n",
       "      <td>271.13</td>\n",
       "      <td>8.200000</td>\n",
       "      <td>102.224650</td>\n",
       "      <td>31.899410</td>\n",
       "      <td>2617.0</td>\n",
       "      <td>11</td>\n",
       "      <td>0</td>\n",
       "      <td>36.00</td>\n",
       "      <td>23.00</td>\n",
       "    </tr>\n",
       "    <tr>\n",
       "      <th>1</th>\n",
       "      <td>Aksu City</td>\n",
       "      <td>137</td>\n",
       "      <td>80.4</td>\n",
       "      <td>610.00</td>\n",
       "      <td>12.276712</td>\n",
       "      <td>80.263380</td>\n",
       "      <td>41.167540</td>\n",
       "      <td>1108.0</td>\n",
       "      <td>6547</td>\n",
       "      <td>0</td>\n",
       "      <td>33.94</td>\n",
       "      <td>23.00</td>\n",
       "    </tr>\n",
       "    <tr>\n",
       "      <th>2</th>\n",
       "      <td>Alxa League</td>\n",
       "      <td>85</td>\n",
       "      <td>150.0</td>\n",
       "      <td>322.58</td>\n",
       "      <td>24.200000</td>\n",
       "      <td>105.728950</td>\n",
       "      <td>38.851920</td>\n",
       "      <td>1673.0</td>\n",
       "      <td>1</td>\n",
       "      <td>0</td>\n",
       "      <td>36.00</td>\n",
       "      <td>23.00</td>\n",
       "    </tr>\n",
       "    <tr>\n",
       "      <th>3</th>\n",
       "      <td>Ngari</td>\n",
       "      <td>28</td>\n",
       "      <td>74.2</td>\n",
       "      <td>37.40</td>\n",
       "      <td>1.000000</td>\n",
       "      <td>80.105800</td>\n",
       "      <td>32.501110</td>\n",
       "      <td>4280.0</td>\n",
       "      <td>1</td>\n",
       "      <td>0</td>\n",
       "      <td>36.00</td>\n",
       "      <td>23.00</td>\n",
       "    </tr>\n",
       "    <tr>\n",
       "      <th>4</th>\n",
       "      <td>Anqin City</td>\n",
       "      <td>79</td>\n",
       "      <td>2127.8</td>\n",
       "      <td>1613.20</td>\n",
       "      <td>17.291781</td>\n",
       "      <td>117.034431</td>\n",
       "      <td>30.512646</td>\n",
       "      <td>13.0</td>\n",
       "      <td>2271</td>\n",
       "      <td>0</td>\n",
       "      <td>45.80</td>\n",
       "      <td>27.48</td>\n",
       "    </tr>\n",
       "  </tbody>\n",
       "</table>\n",
       "</div>"
      ],
      "text/plain": [
       "               City  AQI  Precipitation      GDP  Temperature  Longititute  \\\n",
       "0  Ngawa Prefecture   23          665.1   271.13     8.200000   102.224650   \n",
       "1         Aksu City  137           80.4   610.00    12.276712    80.263380   \n",
       "2       Alxa League   85          150.0   322.58    24.200000   105.728950   \n",
       "3             Ngari   28           74.2    37.40     1.000000    80.105800   \n",
       "4        Anqin City   79         2127.8  1613.20    17.291781   117.034431   \n",
       "\n",
       "    Latitude  Altitude  PopulationDensity  Coastal  GreenCoverageRate  \\\n",
       "0  31.899410    2617.0                 11        0              36.00   \n",
       "1  41.167540    1108.0               6547        0              33.94   \n",
       "2  38.851920    1673.0                  1        0              36.00   \n",
       "3  32.501110    4280.0                  1        0              36.00   \n",
       "4  30.512646      13.0               2271        0              45.80   \n",
       "\n",
       "   Incineration(10,000ton)  \n",
       "0                    23.00  \n",
       "1                    23.00  \n",
       "2                    23.00  \n",
       "3                    23.00  \n",
       "4                    27.48  "
      ]
     },
     "execution_count": 3,
     "metadata": {},
     "output_type": "execute_result"
    }
   ],
   "source": [
    "df.head()"
   ]
  },
  {
   "cell_type": "markdown",
   "metadata": {},
   "source": [
    "## Chi - Square Testing##"
   ]
  },
  {
   "cell_type": "markdown",
   "metadata": {},
   "source": [
    "### Check whether that AQI of a city is dependent on its latitude?"
   ]
  },
  {
   "cell_type": "code",
   "execution_count": 4,
   "metadata": {},
   "outputs": [
    {
     "name": "stdout",
     "output_type": "stream",
     "text": [
      "chi-square statistic 41021.000 p_value 0.328\n",
      "Accept H0 and AQI of a city is independent on its latitude\n"
     ]
    }
   ],
   "source": [
    "# Null Hypothesis(H0):AQI of a city is independent on its latitude\n",
    "# Alternate Hypothesis(H1):AQI of a city is dependent on its latitude\n",
    "alpha = 0.05\n",
    "table = pd.crosstab(df[\"AQI\"],df[\"Latitude\"])\n",
    "from scipy.stats import chi2_contingency\n",
    "chi2,p,dof,expected = chi2_contingency(table.values)\n",
    "print('chi-square statistic %0.3f p_value %0.3f' %(chi2,p))\n",
    "\n",
    "\n",
    "    \n",
    "if p>=alpha:\n",
    "    print(\"Accept H0 and AQI of a city is independent on its latitude\")\n",
    "else:\n",
    "    print(\"Reject H0 and AQI of a city is dependent on its latitude\")"
   ]
  },
  {
   "cell_type": "markdown",
   "metadata": {},
   "source": [
    "## Bayes Theorem"
   ]
  },
  {
   "cell_type": "markdown",
   "metadata": {},
   "source": [
    "### 10 percent of cities in a given year will have a precipitation at any given time.85 percent of the cities have low aqi level due to precipitation and 5 percent of the cities will have low aqi when there is no precipitation. what is the probability of occurence of precipitation if the aqi is low ?\n"
   ]
  },
  {
   "cell_type": "code",
   "execution_count": 5,
   "metadata": {},
   "outputs": [
    {
     "name": "stdout",
     "output_type": "stream",
     "text": [
      "P(A|B) = 65.385%\n"
     ]
    }
   ],
   "source": [
    "# calculate P(A|B) given P(A), P(B|A), P(B|not A)\n",
    "def bayes_theorem(p_a, p_b_given_a, p_b):\n",
    "\t# calculate P(A|B)\n",
    "\tp_a_given_b = (p_b_given_a * p_a) / p_b\n",
    "\treturn p_a_given_b\n",
    " \n",
    "# P(A)\n",
    "p_a = 0.1\n",
    "# P(B|A)\n",
    "p_b_given_a = 0.85\n",
    "# P(B|not A)\n",
    "p_b_given_not_a = 0.05\n",
    "# calculate P(not A)\n",
    "not_a = 1 - p_a\n",
    "# calculate P(B)\n",
    "p_b = p_b_given_a * p_a + p_b_given_not_a * not_a\n",
    "# calculate P(A|B)\n",
    "result = bayes_theorem(p_a, p_b_given_a, p_b)\n",
    "# summarize\n",
    "print('P(A|B) = %.3f%%' % (result * 100))"
   ]
  },
  {
   "cell_type": "markdown",
   "metadata": {},
   "source": [
    "### 60 percent of the cities have high aqi in china,90 percent of the cities treat their waste by incineration and 84 percent of the cities with high aqi level,treat most of their waste by incineration. What is the probability of high aqi level with high incineration ? "
   ]
  },
  {
   "cell_type": "code",
   "execution_count": 6,
   "metadata": {},
   "outputs": [
    {
     "name": "stdout",
     "output_type": "stream",
     "text": [
      "P(A|B) = 56.000%\n"
     ]
    }
   ],
   "source": [
    "# P(A)\n",
    "p_a = 0.6\n",
    "# P(B|A)\n",
    "p_b_given_a = 0.84\n",
    "# P(B)\n",
    "p_b = 0.9\n",
    "# calculate P(A|B)\n",
    "result = bayes_theorem(p_a, p_b_given_a, p_b)\n",
    "# summarize\n",
    "print('P(A|B) = %.3f%%' % (result * 100))"
   ]
  },
  {
   "cell_type": "markdown",
   "metadata": {},
   "source": [
    "## Hypothesis Testing"
   ]
  },
  {
   "cell_type": "markdown",
   "metadata": {},
   "source": [
    "### The Govt. claims that the avg. aqi of china is above avg aqi range. a random sample of 35 cities have a mean aqi of 69.28. Is there sufficient data to support the claim? mean population aqi is 75.33 with std. 23."
   ]
  },
  {
   "cell_type": "code",
   "execution_count": 7,
   "metadata": {},
   "outputs": [
    {
     "name": "stdout",
     "output_type": "stream",
     "text": [
      "[18, 122, 106, 86, 48, 132, 96, 21, 55, 195, 65, 13, 64, 51, 91, 66, 104, 106, 68, 41, 65, 91, 37, 110, 28, 113, 76, 111, 56, 120, 220, 56, 88, 16, 202]\n"
     ]
    }
   ],
   "source": [
    "import random\n",
    "aqi = df['AQI'].values\n",
    "a = random.choices(aqi, k = 35)\n",
    "print(a)"
   ]
  },
  {
   "cell_type": "code",
   "execution_count": 8,
   "metadata": {},
   "outputs": [
    {
     "name": "stdout",
     "output_type": "stream",
     "text": [
      "P-value= 0.35448870431824453\n",
      "P-value>alpha: accept H0\n"
     ]
    }
   ],
   "source": [
    "# Null Hypothesis(H0):AQI of a city is above average AQI range\n",
    "# Alternate Hypothesis(H1):AQI of a city is below average AQI range\n",
    "mu = 75.33\n",
    "sigma = 23\n",
    "sample_mean = np.mean(a)\n",
    "z_score=(sample_mean-mu)/sigma \n",
    "p_value = scipy.stats.norm.sf(abs(z_score)) \n",
    "print('P-value= {}'.format(p_value))\n",
    " \n",
    "if p_value<0.05: \n",
    "     print('P-value<alpha: reject H0') \n",
    "else: \n",
    "     print('P-value>alpha: accept H0')"
   ]
  },
  {
   "cell_type": "markdown",
   "metadata": {},
   "source": [
    "## PDF(Probability Density Function) for a column"
   ]
  },
  {
   "cell_type": "code",
   "execution_count": 9,
   "metadata": {},
   "outputs": [
    {
     "data": {
      "image/png": "[encoded data removed]",
      "text/plain": [
       "<Figure size 432x288 with 1 Axes>"
      ]
     },
     "metadata": {
      "needs_background": "light"
     },
     "output_type": "display_data"
    }
   ],
   "source": [
    "import thinkplot\n",
    "pmf = thinkstats2.Pmf(df.AQI, label='AQI')\n",
    "thinkplot.Pmf(pmf)\n",
    "thinkplot.Config(xlabel='air quality', ylabel='PMF')"
   ]
  },
  {
   "cell_type": "markdown",
   "metadata": {},
   "source": [
    "## CDF(Cumulative Density Function) for a column"
   ]
  },
  {
   "cell_type": "code",
   "execution_count": 10,
   "metadata": {},
   "outputs": [
    {
     "data": {
      "image/png": "[encoded data removed]",
      "text/plain": [
       "<Figure size 432x288 with 1 Axes>"
      ]
     },
     "metadata": {
      "needs_background": "light"
     },
     "output_type": "display_data"
    }
   ],
   "source": [
    "cdf = thinkstats2.Cdf(df.AQI, label='AQI')\n",
    "thinkplot.Cdf(cdf)\n",
    "thinkplot.Config(xlabel='air quality', ylabel='CDF')"
   ]
  },
  {
   "cell_type": "markdown",
   "metadata": {},
   "source": [
    "## To Check The Normal Distribution for a column"
   ]
  },
  {
   "cell_type": "code",
   "execution_count": 11,
   "metadata": {},
   "outputs": [
    {
     "name": "stdout",
     "output_type": "stream",
     "text": [
      "Mean, Var 69.6829268292683 140.29783858814199\n",
      "Sigma 11.844738856899378\n"
     ]
    },
    {
     "data": {
      "image/png": "[encoded data removed]",
      "text/plain": [
       "<Figure size 1152x648 with 1 Axes>"
      ]
     },
     "metadata": {
      "needs_background": "light"
     },
     "output_type": "display_data"
    }
   ],
   "source": [
    "plt.figure(figsize=(16,9))\n",
    "# estimate parameters: trimming outliers yields a better fit\n",
    "# Calculate the mean and variance of weights after removing 1% of data from each end\n",
    "mu, var = thinkstats2.TrimmedMeanVar(df.AQI, p=0.31) # remove 1% of values from each end\n",
    "print('Mean, Var', mu, var)\n",
    "    \n",
    "# plot the model\n",
    "sigma = np.sqrt(var)\n",
    "print('Sigma', sigma)\n",
    "xs, ps = thinkstats2.RenderNormalCdf(mu, sigma, low=0, high=300)\n",
    "\n",
    "thinkplot.Plot(xs, ps, label='model', color='0.6')\n",
    "\n",
    "# plot the data\n",
    "cdf = thinkstats2.Cdf(df.AQI, label='data')\n",
    "\n",
    "thinkplot.PrePlot(1)\n",
    "thinkplot.Cdf(cdf) \n",
    "\n",
    "thinkplot.Config(title='AQI',\n",
    "                 xlabel='AQI',\n",
    "                 ylabel='CDF')"
   ]
  },
  {
   "cell_type": "markdown",
   "metadata": {},
   "source": [
    "## To Check The Exponential Distribution for a column"
   ]
  },
  {
   "cell_type": "code",
   "execution_count": 12,
   "metadata": {},
   "outputs": [
    {
     "data": {
      "image/png": "[encoded data removed]",
      "text/plain": [
       "<Figure size 432x288 with 1 Axes>"
      ]
     },
     "metadata": {
      "needs_background": "light"
     },
     "output_type": "display_data"
    }
   ],
   "source": [
    "cdf1 = thinkstats2.Cdf(df.GDP, label='GDP')\n",
    "thinkplot.Cdf(cdf1, complement=True)\n",
    "thinkplot.Config(xlabel='GDP',\n",
    "                 ylabel='CCDF', yscale='log', loc='upper right')"
   ]
  },
  {
   "cell_type": "markdown",
   "metadata": {},
   "source": [
    "## Binomial Distribution Probabilities"
   ]
  },
  {
   "cell_type": "code",
   "execution_count": 13,
   "metadata": {},
   "outputs": [],
   "source": [
    "def EvalCdf(sample, x):\n",
    "    count = 0.0\n",
    "    for value in sample:\n",
    "        if value <= x:\n",
    "            count += 1\n",
    "\n",
    "    prob = count / len(sample)\n",
    "    return prob"
   ]
  },
  {
   "cell_type": "markdown",
   "metadata": {},
   "source": [
    "### What is the probability of getting best air quality in cities in the coastal area ?"
   ]
  },
  {
   "cell_type": "code",
   "execution_count": 14,
   "metadata": {},
   "outputs": [
    {
     "data": {
      "text/plain": [
       "0.4875"
      ]
     },
     "execution_count": 14,
     "metadata": {},
     "output_type": "execute_result"
    }
   ],
   "source": [
    "df3=df[df['Coastal']==1]\n",
    "df4=df3['AQI']\n",
    "EvalCdf(df4,50)"
   ]
  },
  {
   "cell_type": "markdown",
   "metadata": {},
   "source": [
    "### What is the probability of getting worst air quality of china ?"
   ]
  },
  {
   "cell_type": "code",
   "execution_count": 15,
   "metadata": {},
   "outputs": [
    {
     "data": {
      "text/plain": [
       "0.6811145510835913"
      ]
     },
     "execution_count": 15,
     "metadata": {},
     "output_type": "execute_result"
    }
   ],
   "source": [
    "a=1-EvalCdf(df.AQI,50)\n",
    "a"
   ]
  },
  {
   "cell_type": "markdown",
   "metadata": {},
   "source": [
    "### What is the probability of burning more than 50,000 tons ?"
   ]
  },
  {
   "cell_type": "code",
   "execution_count": 16,
   "metadata": {},
   "outputs": [
    {
     "data": {
      "text/plain": [
       "0.9876160990712074"
      ]
     },
     "execution_count": 16,
     "metadata": {},
     "output_type": "execute_result"
    }
   ],
   "source": [
    "df2=df['Incineration(10,000ton)']\n",
    "b=1-EvalCdf(df2,5)\n",
    "b"
   ]
  },
  {
   "cell_type": "markdown",
   "metadata": {},
   "source": [
    "### What is the probability of getting best air quality having high altitudes ?"
   ]
  },
  {
   "cell_type": "code",
   "execution_count": 17,
   "metadata": {},
   "outputs": [
    {
     "data": {
      "text/plain": [
       "0.3780487804878049"
      ]
     },
     "execution_count": 17,
     "metadata": {},
     "output_type": "execute_result"
    }
   ],
   "source": [
    "df3=df[df['Altitude']>350]\n",
    "df4=df3['AQI']\n",
    "EvalCdf(df4,50)\n"
   ]
  },
  {
   "cell_type": "markdown",
   "metadata": {},
   "source": [
    "## Poisson Distribution Probabilities"
   ]
  },
  {
   "cell_type": "markdown",
   "metadata": {},
   "source": [
    "### What's the probability of the greencoveragerate to be less than 36 percent in next 10 years ?"
   ]
  },
  {
   "cell_type": "code",
   "execution_count": 18,
   "metadata": {},
   "outputs": [
    {
     "data": {
      "text/plain": [
       "4.093268243887387e-08"
      ]
     },
     "execution_count": 18,
     "metadata": {},
     "output_type": "execute_result"
    }
   ],
   "source": [
    "from numpy import *\n",
    "import numpy as np\n",
    "import math\n",
    "\n",
    "def poisson(r, lamb):\n",
    "    \"\"\"poisson pdf, parameter lamb is the fit parameter\"\"\"\n",
    "    return (lamb**r/math.factorial(r)) * np.exp(-lamb) \n",
    "a=df['GreenCoverageRate'].mean()\n",
    "poisson(10,a)\n"
   ]
  },
  {
   "cell_type": "markdown",
   "metadata": {},
   "source": [
    "## Confidence Interval "
   ]
  },
  {
   "cell_type": "markdown",
   "metadata": {},
   "source": [
    "### A group of 50 cities have a mean aqi of 71.6 and the sample standard deviation was 37.5. find the ci for a sample of all the cities?By taking confidence level = 95%"
   ]
  },
  {
   "cell_type": "code",
   "execution_count": 19,
   "metadata": {},
   "outputs": [
    {
     "data": {
      "text/plain": [
       "(66.43647645616394, 91.64352354383607)"
      ]
     },
     "execution_count": 19,
     "metadata": {},
     "output_type": "execute_result"
    }
   ],
   "source": [
    "import random\n",
    "aqi = df['AQI'].values\n",
    "a = random.choices(aqi, k = 50)\n",
    "\n",
    "confidence = 0.95\n",
    "\n",
    "import numpy as np\n",
    "import scipy.stats\n",
    "\n",
    "\n",
    "def mean_confidence_interval(a, confidence=0.95):\n",
    "    n=50\n",
    "    s, se = np.mean(a), scipy.stats.sem(a)\n",
    "    h = se * scipy.stats.t.ppf((1+confidence)/2, n-1)\n",
    "    return ( s-h, s+h)\n",
    "\n",
    "mean_confidence_interval(a)\n",
    "    "
   ]
  },
  {
   "cell_type": "code",
   "execution_count": null,
   "metadata": {},
   "outputs": [],
   "source": []
  }
 ],
 "metadata": {
  "kernelspec": {
   "display_name": "Python 3",
   "language": "python",
   "name": "python3"
  },
  "language_info": {
   "codemirror_mode": {
    "name": "ipython",
    "version": 3
   },
   "file_extension": ".py",
   "mimetype": "text/x-python",
   "name": "python",
   "nbconvert_exporter": "python",
   "pygments_lexer": "ipython3",
   "version": "3.7.3"
  }
 },
 "nbformat": 4,
 "nbformat_minor": 2
}
